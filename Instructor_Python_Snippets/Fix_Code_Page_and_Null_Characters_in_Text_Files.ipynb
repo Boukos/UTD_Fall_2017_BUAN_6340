{
 "cells": [
  {
   "cell_type": "code",
   "execution_count": 10,
   "metadata": {
    "collapsed": true
   },
   "outputs": [],
   "source": [
    "# file_name is a text file with a code page of cp1252 (Windows English US)\n",
    "# it may also have some NULL characters in the file\n",
    "# we want to convert this file to utf-8 with NULL characters removed"
   ]
  },
  {
   "cell_type": "code",
   "execution_count": 11,
   "metadata": {
    "collapsed": false
   },
   "outputs": [],
   "source": [
    "file_name = \"cp1252.csv\""
   ]
  },
  {
   "cell_type": "code",
   "execution_count": 12,
   "metadata": {
    "collapsed": false
   },
   "outputs": [],
   "source": [
    "# read in a file with code page cp1252 (Windows English US)\n",
    "ifp = open(file_name, \"rt\", encoding='cp1252')\n",
    "input_data = ifp.read()\n",
    "ifp.close()"
   ]
  },
  {
   "cell_type": "code",
   "execution_count": 13,
   "metadata": {
    "collapsed": false
   },
   "outputs": [],
   "source": [
    "ofp = open(file_name + \".fix\",\"wt\", encoding='utf-8')\n",
    "for c in input_data:\n",
    "    if c != '\\0':\n",
    "        ofp.write(c)\n",
    "ofp.close()"
   ]
  },
  {
   "cell_type": "code",
   "execution_count": null,
   "metadata": {
    "collapsed": true
   },
   "outputs": [],
   "source": []
  }
 ],
 "metadata": {
  "kernelspec": {
   "display_name": "Python 3",
   "language": "python",
   "name": "python3"
  },
  "language_info": {
   "codemirror_mode": {
    "name": "ipython",
    "version": 3
   },
   "file_extension": ".py",
   "mimetype": "text/x-python",
   "name": "python",
   "nbconvert_exporter": "python",
   "pygments_lexer": "ipython3",
   "version": "3.6.0"
  }
 },
 "nbformat": 4,
 "nbformat_minor": 2
}
